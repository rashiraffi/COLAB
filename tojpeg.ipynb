{
  "nbformat": 4,
  "nbformat_minor": 0,
  "metadata": {
    "colab": {
      "name": "tojpeg.ipynb",
      "provenance": [],
      "collapsed_sections": [],
      "include_colab_link": true
    },
    "kernelspec": {
      "name": "python3",
      "display_name": "Python 3"
    }
  },
  "cells": [
    {
      "cell_type": "markdown",
      "metadata": {
        "id": "view-in-github",
        "colab_type": "text"
      },
      "source": [
        "<a href=\"https://colab.research.google.com/github/rashiraffi/COLAB/blob/master/tojpeg.ipynb\" target=\"_parent\"><img src=\"https://colab.research.google.com/assets/colab-badge.svg\" alt=\"Open In Colab\"/></a>"
      ]
    },
    {
      "cell_type": "code",
      "metadata": {
        "id": "LDt7SueryPIU",
        "colab_type": "code",
        "colab": {}
      },
      "source": [
        "import os\n",
        "from PIL import Image"
      ],
      "execution_count": null,
      "outputs": []
    },
    {
      "cell_type": "code",
      "metadata": {
        "id": "XTxM9nzKyW4T",
        "colab_type": "code",
        "colab": {
          "base_uri": "https://localhost:8080/",
          "height": 34
        },
        "outputId": "07ea137f-e05a-4abb-965c-0d23e134db92"
      },
      "source": [
        "!pwd"
      ],
      "execution_count": null,
      "outputs": [
        {
          "output_type": "stream",
          "text": [
            "/content/img\n"
          ],
          "name": "stdout"
        }
      ]
    },
    {
      "cell_type": "code",
      "metadata": {
        "id": "phezTTFtyhPb",
        "colab_type": "code",
        "colab": {}
      },
      "source": [
        "folder = '/content/img'\n",
        "image = []\n",
        "for filename in os.listdir(folder):\n",
        "  image = []\n",
        "  image = skio.imread(filename)\n",
        "  l=len(filename)\n",
        "  if(\".png\" in filename):\n",
        "    n=filename[0:l-4]\n",
        "    #image = image.convert('RGB')\n",
        "  elif (\".jpeg\" in filename):\n",
        "    n=filename[0:l-5]\n",
        "  os.remove(filename)\n",
        "  skio.imsave(n+'.jpg',image)"
      ],
      "execution_count": null,
      "outputs": []
    },
    {
      "cell_type": "code",
      "metadata": {
        "id": "mD-RHulgzswq",
        "colab_type": "code",
        "colab": {}
      },
      "source": [
        "folder = '/content/img'\n",
        "print(os.listdir(folder))"
      ],
      "execution_count": null,
      "outputs": []
    },
    {
      "cell_type": "code",
      "metadata": {
        "colab_type": "code",
        "id": "nIaOwvD95vC_",
        "colab": {}
      },
      "source": [
        "folder = '/content/img'\n",
        "i=len(os.listdir(folder))\n",
        "for filename in os.listdir(folder):\n",
        "  im = Image.open(folder + '/' + filename)\n",
        "  rgb_im = im.convert('RGB')\n",
        "  l=len(filename)\n",
        "  if(\".png\" in filename):\n",
        "    n=filename[0:l-4]\n",
        "  elif (\".jpeg\" in filename):\n",
        "    n=filename[0:l-5]\n",
        "  os.remove(filename)\n",
        "  rgb_im.save(n+'.jpg')\n",
        "  i=i-1\n",
        "  if(i==1):\n",
        "    #To avoid '.ipynb_checkpoints'\n",
        "    break"
      ],
      "execution_count": null,
      "outputs": []
    }
  ]
}