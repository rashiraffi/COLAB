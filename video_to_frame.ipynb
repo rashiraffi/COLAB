{
  "nbformat": 4,
  "nbformat_minor": 0,
  "metadata": {
    "colab": {
      "name": "video_to_frame.ipynb",
      "provenance": [],
      "authorship_tag": "ABX9TyOVY1AmL60jYFA+fCt4UBg4",
      "include_colab_link": true
    },
    "kernelspec": {
      "name": "python3",
      "display_name": "Python 3"
    }
  },
  "cells": [
    {
      "cell_type": "markdown",
      "metadata": {
        "id": "view-in-github",
        "colab_type": "text"
      },
      "source": [
        "<a href=\"https://colab.research.google.com/github/rashiraffi/COLAB/blob/master/video_to_frame.ipynb\" target=\"_parent\"><img src=\"https://colab.research.google.com/assets/colab-badge.svg\" alt=\"Open In Colab\"/></a>"
      ]
    },
    {
      "cell_type": "code",
      "metadata": {
        "id": "snnQirEIn1Bn",
        "colab_type": "code",
        "colab": {}
      },
      "source": [
        "import cv2\n",
        "# Opens the Video file\n",
        "p=input(\"Enter path\")\n",
        "s=input(\"filename:\")\n",
        "cap= cv2.VideoCapture(p)\n",
        "i=0\n",
        "while(cap.isOpened()):\n",
        "    ret, frame = cap.read()\n",
        "    if ret == False:\n",
        "        break\n",
        "    if(i%30==0):\n",
        "        print(i)\n",
        "        cv2.imwrite(s+str(i/30)+'.jpg',frame)\n",
        "    i+=1\n",
        "cap.release()\n",
        "cv2.destroyAllWindows()"
      ],
      "execution_count": null,
      "outputs": []
    },
    {
      "cell_type": "code",
      "metadata": {
        "id": "6Zm6HC5GoJDi",
        "colab_type": "code",
        "colab": {
          "base_uri": "https://localhost:8080/",
          "height": 156
        },
        "outputId": "fadc998d-913a-4434-cb07-e522b56a7290"
      },
      "source": [
        "! git clone https://github.com/sreeragrnandan/Data_Track_illegal_activities.git"
      ],
      "execution_count": null,
      "outputs": [
        {
          "output_type": "stream",
          "text": [
            "Cloning into 'Data_Track_illegal_activities'...\n",
            "remote: Enumerating objects: 3, done.\u001b[K\n",
            "remote: Counting objects:  33% (1/3)\u001b[K\rremote: Counting objects:  66% (2/3)\u001b[K\rremote: Counting objects: 100% (3/3)\u001b[K\rremote: Counting objects: 100% (3/3), done.\u001b[K\n",
            "remote: Compressing objects: 100% (3/3), done.\u001b[K\n",
            "remote: Total 6855 (delta 0), reused 0 (delta 0), pack-reused 6852\u001b[K\n",
            "Receiving objects: 100% (6855/6855), 2.64 GiB | 42.52 MiB/s, done.\n",
            "Resolving deltas: 100% (46/46), done.\n",
            "Checking out files: 100% (7058/7058), done.\n"
          ],
          "name": "stdout"
        }
      ]
    }
  ]
}